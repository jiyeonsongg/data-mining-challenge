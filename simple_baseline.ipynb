{
 "cells": [
  {
   "cell_type": "code",
   "execution_count": 2,
   "metadata": {},
   "outputs": [
    {
     "name": "stderr",
     "output_type": "stream",
     "text": [
      "C:\\Users\\jyson\\AppData\\Local\\Temp\\ipykernel_18616\\3862801624.py:5: DtypeWarning: Columns (30) have mixed types. Specify dtype option on import or set low_memory=False.\n",
      "  df = pd.read_csv('train.csv')\n"
     ]
    }
   ],
   "source": [
    "import pandas as pd\n",
    "import numpy as np\n",
    "\n",
    "\n",
    "df = pd.read_csv('train.csv')"
   ]
  },
  {
   "cell_type": "code",
   "execution_count": 3,
   "metadata": {},
   "outputs": [
    {
     "name": "stdout",
     "output_type": "stream",
     "text": [
      "33538\n"
     ]
    }
   ],
   "source": [
    "print(len(df))"
   ]
  },
  {
   "cell_type": "code",
   "execution_count": 4,
   "metadata": {},
   "outputs": [
    {
     "data": {
      "text/plain": [
       "Index(['id', 'name', 'summary', 'space', 'description', 'experiences_offered',\n",
       "       'neighborhood_overview', 'notes', 'transit', 'access', 'interaction',\n",
       "       'house_rules', 'host_id', 'host_name', 'host_since', 'host_location',\n",
       "       'host_about', 'host_response_time', 'host_response_rate',\n",
       "       'host_acceptance_rate', 'host_is_superhost', 'host_neighbourhood',\n",
       "       'host_listings_count', 'host_verifications', 'host_has_profile_pic',\n",
       "       'host_identity_verified', 'neighbourhood_cleansed',\n",
       "       'neighbourhood_group_cleansed', 'city', 'state', 'zipcode', 'market',\n",
       "       'country_code', 'country', 'property_type', 'room_type', 'accommodates',\n",
       "       'bathrooms', 'bedrooms', 'beds', 'bed_type', 'amenities', 'square_feet',\n",
       "       'price', 'guests_included', 'extra_people', 'minimum_nights',\n",
       "       'maximum_nights', 'number_of_reviews', 'first_review', 'last_review',\n",
       "       'review_scores_rating', 'review_scores_accuracy',\n",
       "       'review_scores_cleanliness', 'review_scores_checkin',\n",
       "       'review_scores_communication', 'review_scores_location',\n",
       "       'review_scores_value', 'instant_bookable', 'is_business_travel_ready',\n",
       "       'cancellation_policy', 'require_guest_profile_picture',\n",
       "       'require_guest_phone_verification', 'calculated_host_listings_count',\n",
       "       'reviews_per_month'],\n",
       "      dtype='object')"
      ]
     },
     "execution_count": 4,
     "metadata": {},
     "output_type": "execute_result"
    }
   ],
   "source": [
    "df.columns"
   ]
  },
  {
   "cell_type": "code",
   "execution_count": 5,
   "metadata": {},
   "outputs": [
    {
     "data": {
      "text/plain": [
       "<AxesSubplot:>"
      ]
     },
     "execution_count": 5,
     "metadata": {},
     "output_type": "execute_result"
    },
    {
     "data": {
      "image/png": "[encoded data removed]",
      "text/plain": [
       "<Figure size 432x288 with 1 Axes>"
      ]
     },
     "metadata": {
      "needs_background": "light"
     },
     "output_type": "display_data"
    }
   ],
   "source": [
    "df['price'].hist(bins = 1000)"
   ]
  },
  {
   "cell_type": "code",
   "execution_count": 6,
   "metadata": {},
   "outputs": [
    {
     "name": "stdout",
     "output_type": "stream",
     "text": [
      "3\n",
      "33538 33538\n"
     ]
    }
   ],
   "source": [
    "from math import isnan\n",
    "from sklearn.model_selection import train_test_split\n",
    "\n",
    "def to_float(s):\n",
    "    try:\n",
    "        ret = float(s)\n",
    "    except:\n",
    "        ret = -1\n",
    "    if isnan(ret):\n",
    "        ret = -1\n",
    "    return ret\n",
    "\n",
    "def to_int(s):\n",
    "    try:\n",
    "        ret = int(s)\n",
    "    except:\n",
    "        ret = -1\n",
    "    return ret\n",
    "\n",
    "categories_neigh = [x for x in list(set(df['neighbourhood_group_cleansed'])) if type(x) is str]\n",
    "categories_room = [x for x in list(set(df['room_type'])) if type(x) is str]\n",
    "categories_property = [x for x in list(set(df['property_type'])) if type(x) is str]\n",
    "categories_cancellation = [x for x in list(set(df['cancellation_policy'])) if type(x) is str]\n",
    "categories_super = [x for x in list(set(df['host_is_superhost'])) if type(x) is str]\n",
    "categories_bed = [x for x in list(set(df['bed_type'])) if type(x) is str]\n",
    "# categories_neigh_sm = [x for x in list(set(df['neighbourhood_cleansed'])) if type(x) is str]\n",
    "categories_city = [x for x in list(set(df['city'])) if type(x) is str]\n",
    "\n",
    "\n",
    "\n",
    "print(len(categories_room))\n",
    "\n",
    "def create_feature(row):\n",
    "    guest_num = to_int(row.guests_included)\n",
    "    guest_cap = to_int(row.extra_people)\n",
    "    bedrooms = to_int(row.bedrooms)\n",
    "    bathrooms = to_int(row.bathrooms)\n",
    "    rating = to_float(row.review_scores_rating)\n",
    "    # add features\n",
    "    beds = to_int(row.beds)\n",
    "    cleanliness = to_float(row.review_scores_cleanliness)\n",
    "    location = to_float(row.review_scores_location)\n",
    "    # review_month = to_float(row.reviews_per_month)\n",
    "    accuracy = to_float(row.review_scores_accuracy)\n",
    "    accommodation = to_int(row.accommodates)\n",
    "\n",
    "    # add features\n",
    "    one_hot_neigh = [int(row.neighbourhood_group_cleansed == category) for category in categories_neigh]\n",
    "    one_hot_roomtype = [int(row.room_type == category) for category in categories_room]\n",
    "    one_hot_property = [int(row.property_type == category) for category in categories_property]\n",
    "    one_hot_cancellation = [int(row.cancellation_policy == category) for category in categories_cancellation]\n",
    "    # one_hot_super = [int(row.host_is_superhost == category) for category in categories_super]\n",
    "    one_hot_bed = [int(row.bed_type == category) for category in categories_bed]\n",
    "    # one_hot_neigh_sm = [int(row.neighbourhood_cleansed == category) for category in categories_neigh]\n",
    "    one_hot_city = [int(row.city == category) for category in categories_city]\n",
    "\n",
    "\n",
    "    \n",
    "    # return [guest_num, guest_cap, bedrooms, bathrooms, rating] + one_hot_neigh\n",
    "    return [guest_num, guest_cap, bedrooms, bathrooms, rating, beds, cleanliness, location, accuracy, accommodation] \\\n",
    "        + one_hot_neigh + one_hot_roomtype + one_hot_property +one_hot_cancellation + one_hot_city + one_hot_bed\n",
    "    # return [bathrooms, bedrooms, beds, guest_num, location, cleanliness] + one_hot_bed + one_hot_neigh + one_hot_property\n",
    "\n",
    "train_X, train_y = [], []\n",
    "# test_X, test_y = [], []\n",
    "\n",
    "# X = df.drop('price', axis=1)\n",
    "# y = df['price']\n",
    "# X_train, X_test, y_train, y_test = train_test_split(X, y, test_size=0.2, random_state=0)\n",
    "\n",
    "for (idx, row) in df.iterrows():\n",
    "    price = float(row.price)\n",
    "    feature = create_feature(row)\n",
    "\n",
    "    train_X.append(feature)\n",
    "    # test_X.append(feature)\n",
    "    train_y.append(price)\n",
    "    # test_y.append(price)\n",
    "print(len(train_X), len(train_y))"
   ]
  },
  {
   "cell_type": "code",
   "execution_count": 7,
   "metadata": {},
   "outputs": [],
   "source": [
    "from sklearn import linear_model\n",
    "from sklearn.linear_model import LogisticRegression\n",
    "from sklearn.kernel_ridge import KernelRidge\n",
    "from sklearn.linear_model import ElasticNet\n",
    "from sklearn.ensemble import HistGradientBoostingRegressor\n",
    "\n",
    "\n",
    "# regr = linear_model.LinearRegression()\n",
    "regr = HistGradientBoostingRegressor()\n",
    "# regr.fit(train_X, train_y)\n",
    "regr.fit(train_X, train_y)\n",
    "predict_train = regr.predict(train_X)"
   ]
  },
  {
   "cell_type": "code",
   "execution_count": 8,
   "metadata": {},
   "outputs": [
    {
     "data": {
      "text/plain": [
       "86.29385855764892"
      ]
     },
     "execution_count": 8,
     "metadata": {},
     "output_type": "execute_result"
    }
   ],
   "source": [
    "# rmse\n",
    "def rmse(actual, pred):\n",
    "    return np.sqrt(np.mean((actual - pred)**2))\n",
    "# test set should have less root mean squared error\n",
    "rmse(train_y, predict_train)#, rmse(y_test, predict_test)\n",
    "# 111.88236468952144"
   ]
  },
  {
   "cell_type": "code",
   "execution_count": 10,
   "metadata": {},
   "outputs": [
    {
     "name": "stderr",
     "output_type": "stream",
     "text": [
      "C:\\Users\\jyson\\AppData\\Local\\Temp\\ipykernel_18616\\3100640438.py:3: DtypeWarning: Columns (30) have mixed types. Specify dtype option on import or set low_memory=False.\n",
      "  test_df = pd.read_csv('test.csv')\n"
     ]
    }
   ],
   "source": [
    "import pandas as pd\n",
    "\n",
    "test_df = pd.read_csv('test.csv')"
   ]
  },
  {
   "cell_type": "code",
   "execution_count": 11,
   "metadata": {},
   "outputs": [],
   "source": [
    "test_ids, test_X = [], []\n",
    "for (idx, row) in test_df.iterrows():\n",
    "    feature = create_feature(row)\n",
    "    test_ids.append(row.id)\n",
    "    test_X.append(feature)\n",
    "test_y = regr.predict(test_X)"
   ]
  },
  {
   "cell_type": "code",
   "execution_count": 12,
   "metadata": {},
   "outputs": [
    {
     "name": "stdout",
     "output_type": "stream",
     "text": [
      "17337\n"
     ]
    }
   ],
   "source": [
    "print(len(test_y))"
   ]
  },
  {
   "cell_type": "code",
   "execution_count": 13,
   "metadata": {},
   "outputs": [],
   "source": [
    "output_df = pd.DataFrame()\n",
    "output_df['Id'] = test_ids\n",
    "output_df['Predicted'] = test_y\n",
    "output_df.to_csv('simple_linear_regression_baseline.csv', index = False)"
   ]
  },
  {
   "attachments": {},
   "cell_type": "markdown",
   "metadata": {},
   "source": [
    "### stop here"
   ]
  },
  {
   "cell_type": "code",
   "execution_count": 84,
   "metadata": {
    "scrolled": true
   },
   "outputs": [],
   "source": [
    "import numpy as np\n",
    "\n",
    "mean = np.median(list(df['price']))"
   ]
  },
  {
   "cell_type": "code",
   "execution_count": 85,
   "metadata": {},
   "outputs": [],
   "source": [
    "output_df = pd.DataFrame()\n",
    "output_df['Id'] = test_ids\n",
    "output_df['Predicted'] = [mean for i in range(len(test_ids))]\n",
    "output_df.to_csv('mean_value_baseline.csv', index = False)"
   ]
  },
  {
   "cell_type": "code",
   "execution_count": null,
   "metadata": {},
   "outputs": [],
   "source": []
  }
 ],
 "metadata": {
  "kernelspec": {
   "display_name": "base",
   "language": "python",
   "name": "python3"
  },
  "language_info": {
   "codemirror_mode": {
    "name": "ipython",
    "version": 3
   },
   "file_extension": ".py",
   "mimetype": "text/x-python",
   "name": "python",
   "nbconvert_exporter": "python",
   "pygments_lexer": "ipython3",
   "version": "3.9.12"
  },
  "vscode": {
   "interpreter": {
    "hash": "e8d414f88b0df77f2382301d15f65d5e41b67a3ef20bf7a1fe99919f37ecca96"
   }
  }
 },
 "nbformat": 4,
 "nbformat_minor": 2
}
